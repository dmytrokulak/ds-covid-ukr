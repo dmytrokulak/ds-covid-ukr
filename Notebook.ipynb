{
 "cells": [
  {
   "cell_type": "markdown",
   "metadata": {},
   "source": [
    "# Introduction"
   ]
  },
  {
   "cell_type": "markdown",
   "metadata": {},
   "source": [
    "## Domain-specific area"
   ]
  },
  {
   "cell_type": "markdown",
   "metadata": {},
   "source": [
    "The domain is epidemiology, namely current Covid-19 pandemic, restricted in scope to a single country - Ukraine. Vaccination campaign in Ukraine started later than in other European countries and has been accompanied by a number of controversies which  eventually led to resignation of the local Health Minister[1][2]. Ukraine is large country with population over 40 million (roughly 5% of European population) and a source of thousands of seasonal migrant workers in EU; epidemiological situation in this country is critical to the epidemiological situation in Europe overall."
   ]
  },
  {
   "cell_type": "markdown",
   "metadata": {},
   "source": [
    "## Dataset"
   ]
  },
  {
   "cell_type": "markdown",
   "metadata": {},
   "source": [
    "Dataset used in this research is \"A global database of COVID-19 vaccinations\"[3] available at https://ourworldindata.org under Creative Commons license."
   ]
  },
  {
   "cell_type": "markdown",
   "metadata": {},
   "source": [
    "The dataset contains data about COVID-19 dynamics (cases, deaths, vaccinations) per territory per day starting with 2020-02-24."
   ]
  },
  {
   "cell_type": "code",
   "execution_count": 1,
   "metadata": {},
   "outputs": [],
   "source": [
    "import pandas as pd\n",
    "df = pd.read_csv('dataset.csv',parse_dates=['date'])"
   ]
  },
  {
   "cell_type": "markdown",
   "metadata": {},
   "source": [
    "Number of rows"
   ]
  },
  {
   "cell_type": "code",
   "execution_count": 2,
   "metadata": {},
   "outputs": [
    {
     "data": {
      "text/plain": [
       "95066"
      ]
     },
     "execution_count": 2,
     "metadata": {},
     "output_type": "execute_result"
    }
   ],
   "source": [
    "df.count()[0]"
   ]
  },
  {
   "cell_type": "markdown",
   "metadata": {},
   "source": [
    "Number of columns"
   ]
  },
  {
   "cell_type": "code",
   "execution_count": 3,
   "metadata": {
    "scrolled": true
   },
   "outputs": [
    {
     "data": {
      "text/plain": [
       "60"
      ]
     },
     "execution_count": 3,
     "metadata": {},
     "output_type": "execute_result"
    }
   ],
   "source": [
    "len(df.columns)"
   ]
  },
  {
   "cell_type": "markdown",
   "metadata": {},
   "source": [
    "Columns and types"
   ]
  },
  {
   "cell_type": "code",
   "execution_count": 4,
   "metadata": {
    "scrolled": true
   },
   "outputs": [
    {
     "data": {
      "text/plain": [
       "iso_code                                         object\n",
       "continent                                        object\n",
       "location                                         object\n",
       "date                                     datetime64[ns]\n",
       "total_cases                                     float64\n",
       "new_cases                                       float64\n",
       "new_cases_smoothed                              float64\n",
       "total_deaths                                    float64\n",
       "new_deaths                                      float64\n",
       "new_deaths_smoothed                             float64\n",
       "total_cases_per_million                         float64\n",
       "new_cases_per_million                           float64\n",
       "new_cases_smoothed_per_million                  float64\n",
       "total_deaths_per_million                        float64\n",
       "new_deaths_per_million                          float64\n",
       "new_deaths_smoothed_per_million                 float64\n",
       "reproduction_rate                               float64\n",
       "icu_patients                                    float64\n",
       "icu_patients_per_million                        float64\n",
       "hosp_patients                                   float64\n",
       "hosp_patients_per_million                       float64\n",
       "weekly_icu_admissions                           float64\n",
       "weekly_icu_admissions_per_million               float64\n",
       "weekly_hosp_admissions                          float64\n",
       "weekly_hosp_admissions_per_million              float64\n",
       "new_tests                                       float64\n",
       "total_tests                                     float64\n",
       "total_tests_per_thousand                        float64\n",
       "new_tests_per_thousand                          float64\n",
       "new_tests_smoothed                              float64\n",
       "new_tests_smoothed_per_thousand                 float64\n",
       "positive_rate                                   float64\n",
       "tests_per_case                                  float64\n",
       "tests_units                                      object\n",
       "total_vaccinations                              float64\n",
       "people_vaccinated                               float64\n",
       "people_fully_vaccinated                         float64\n",
       "new_vaccinations                                float64\n",
       "new_vaccinations_smoothed                       float64\n",
       "total_vaccinations_per_hundred                  float64\n",
       "people_vaccinated_per_hundred                   float64\n",
       "people_fully_vaccinated_per_hundred             float64\n",
       "new_vaccinations_smoothed_per_million           float64\n",
       "stringency_index                                float64\n",
       "population                                      float64\n",
       "population_density                              float64\n",
       "median_age                                      float64\n",
       "aged_65_older                                   float64\n",
       "aged_70_older                                   float64\n",
       "gdp_per_capita                                  float64\n",
       "extreme_poverty                                 float64\n",
       "cardiovasc_death_rate                           float64\n",
       "diabetes_prevalence                             float64\n",
       "female_smokers                                  float64\n",
       "male_smokers                                    float64\n",
       "handwashing_facilities                          float64\n",
       "hospital_beds_per_thousand                      float64\n",
       "life_expectancy                                 float64\n",
       "human_development_index                         float64\n",
       "excess_mortality                                float64\n",
       "dtype: object"
      ]
     },
     "execution_count": 4,
     "metadata": {},
     "output_type": "execute_result"
    }
   ],
   "source": [
    "df.dtypes"
   ]
  },
  {
   "cell_type": "markdown",
   "metadata": {},
   "source": [
    "## Objectives"
   ]
  },
  {
   "cell_type": "markdown",
   "metadata": {},
   "source": [
    "With this research we would like to answer the question \"When is epedimic over?\" in application to a specific country which is Ukraine. Epidemic may be considered to come to an end when the population reaches a specific level of herd immunity through vaccination and through recovering from the desease. The exact level of herd immunity is debatable and for this research we will assume it to be 70% of the total population.[4]\n",
    "\n",
    "Despite COVID-19 being an everyday topic discussed in the media, we failed to find estimates about the duration of the epidemic in Ukraine with vaccination taken into account. "
   ]
  },
  {
   "cell_type": "markdown",
   "metadata": {},
   "source": [
    "# Implementation"
   ]
  },
  {
   "cell_type": "code",
   "execution_count": 5,
   "metadata": {},
   "outputs": [],
   "source": [
    "import pandas as pd\n",
    "import numpy as np\n",
    "import matplotlib.pyplot as plt\n",
    "import matplotlib.dates as mdates\n",
    "import datetime\n",
    "from sklearn.linear_model import LinearRegression\n",
    "from sklearn.model_selection import train_test_split\n",
    "from math import floor"
   ]
  },
  {
   "cell_type": "markdown",
   "metadata": {},
   "source": [
    "#### Preprocess the data"
   ]
  },
  {
   "cell_type": "markdown",
   "metadata": {},
   "source": [
    "Filter dataset to only include Ukaine and only year 2021 and restrict columns to the ones required for this research"
   ]
  },
  {
   "cell_type": "code",
   "execution_count": 6,
   "metadata": {
    "scrolled": true
   },
   "outputs": [],
   "source": [
    "selected_columns = ['date','total_cases', 'total_deaths', 'people_fully_vaccinated', 'population']\n",
    "df = df.loc[(df['iso_code'] == 'UKR') & (df['date']>'2021-01-01')][selected_columns]\n",
    "df.reset_index(drop=True,inplace=True)"
   ]
  },
  {
   "cell_type": "markdown",
   "metadata": {},
   "source": [
    "##### Clean data of NaN values"
   ]
  },
  {
   "cell_type": "code",
   "execution_count": 7,
   "metadata": {},
   "outputs": [
    {
     "data": {
      "text/html": [
       "<div>\n",
       "<style scoped>\n",
       "    .dataframe tbody tr th:only-of-type {\n",
       "        vertical-align: middle;\n",
       "    }\n",
       "\n",
       "    .dataframe tbody tr th {\n",
       "        vertical-align: top;\n",
       "    }\n",
       "\n",
       "    .dataframe thead th {\n",
       "        text-align: right;\n",
       "    }\n",
       "</style>\n",
       "<table border=\"1\" class=\"dataframe\">\n",
       "  <thead>\n",
       "    <tr style=\"text-align: right;\">\n",
       "      <th></th>\n",
       "      <th>date</th>\n",
       "      <th>total_cases</th>\n",
       "      <th>total_deaths</th>\n",
       "      <th>people_fully_vaccinated</th>\n",
       "      <th>population</th>\n",
       "    </tr>\n",
       "  </thead>\n",
       "  <tbody>\n",
       "    <tr>\n",
       "      <th>0</th>\n",
       "      <td>2021-01-02</td>\n",
       "      <td>1102256.0</td>\n",
       "      <td>19498.0</td>\n",
       "      <td>NaN</td>\n",
       "      <td>43733759.0</td>\n",
       "    </tr>\n",
       "    <tr>\n",
       "      <th>1</th>\n",
       "      <td>2021-01-03</td>\n",
       "      <td>1107137.0</td>\n",
       "      <td>19630.0</td>\n",
       "      <td>NaN</td>\n",
       "      <td>43733759.0</td>\n",
       "    </tr>\n",
       "    <tr>\n",
       "      <th>2</th>\n",
       "      <td>2021-01-04</td>\n",
       "      <td>1111631.0</td>\n",
       "      <td>19712.0</td>\n",
       "      <td>NaN</td>\n",
       "      <td>43733759.0</td>\n",
       "    </tr>\n",
       "    <tr>\n",
       "      <th>3</th>\n",
       "      <td>2021-01-05</td>\n",
       "      <td>1117256.0</td>\n",
       "      <td>19929.0</td>\n",
       "      <td>NaN</td>\n",
       "      <td>43733759.0</td>\n",
       "    </tr>\n",
       "    <tr>\n",
       "      <th>4</th>\n",
       "      <td>2021-01-06</td>\n",
       "      <td>1124482.0</td>\n",
       "      <td>20171.0</td>\n",
       "      <td>NaN</td>\n",
       "      <td>43733759.0</td>\n",
       "    </tr>\n",
       "    <tr>\n",
       "      <th>...</th>\n",
       "      <td>...</td>\n",
       "      <td>...</td>\n",
       "      <td>...</td>\n",
       "      <td>...</td>\n",
       "      <td>...</td>\n",
       "    </tr>\n",
       "    <tr>\n",
       "      <th>83</th>\n",
       "      <td>2021-03-26</td>\n",
       "      <td>1665001.0</td>\n",
       "      <td>33068.0</td>\n",
       "      <td>NaN</td>\n",
       "      <td>43733759.0</td>\n",
       "    </tr>\n",
       "    <tr>\n",
       "      <th>84</th>\n",
       "      <td>2021-03-27</td>\n",
       "      <td>1682527.0</td>\n",
       "      <td>33363.0</td>\n",
       "      <td>NaN</td>\n",
       "      <td>43733759.0</td>\n",
       "    </tr>\n",
       "    <tr>\n",
       "      <th>91</th>\n",
       "      <td>2021-04-03</td>\n",
       "      <td>1783169.0</td>\n",
       "      <td>35729.0</td>\n",
       "      <td>NaN</td>\n",
       "      <td>43733759.0</td>\n",
       "    </tr>\n",
       "    <tr>\n",
       "      <th>112</th>\n",
       "      <td>2021-04-24</td>\n",
       "      <td>2071142.0</td>\n",
       "      <td>43884.0</td>\n",
       "      <td>NaN</td>\n",
       "      <td>43733759.0</td>\n",
       "    </tr>\n",
       "    <tr>\n",
       "      <th>127</th>\n",
       "      <td>2021-05-09</td>\n",
       "      <td>2175151.0</td>\n",
       "      <td>48294.0</td>\n",
       "      <td>NaN</td>\n",
       "      <td>43733759.0</td>\n",
       "    </tr>\n",
       "  </tbody>\n",
       "</table>\n",
       "<p>81 rows × 5 columns</p>\n",
       "</div>"
      ],
      "text/plain": [
       "          date  total_cases  total_deaths  people_fully_vaccinated  population\n",
       "0   2021-01-02    1102256.0       19498.0                      NaN  43733759.0\n",
       "1   2021-01-03    1107137.0       19630.0                      NaN  43733759.0\n",
       "2   2021-01-04    1111631.0       19712.0                      NaN  43733759.0\n",
       "3   2021-01-05    1117256.0       19929.0                      NaN  43733759.0\n",
       "4   2021-01-06    1124482.0       20171.0                      NaN  43733759.0\n",
       "..         ...          ...           ...                      ...         ...\n",
       "83  2021-03-26    1665001.0       33068.0                      NaN  43733759.0\n",
       "84  2021-03-27    1682527.0       33363.0                      NaN  43733759.0\n",
       "91  2021-04-03    1783169.0       35729.0                      NaN  43733759.0\n",
       "112 2021-04-24    2071142.0       43884.0                      NaN  43733759.0\n",
       "127 2021-05-09    2175151.0       48294.0                      NaN  43733759.0\n",
       "\n",
       "[81 rows x 5 columns]"
      ]
     },
     "execution_count": 7,
     "metadata": {},
     "output_type": "execute_result"
    }
   ],
   "source": [
    "df[df.isnull().any(axis=1)]"
   ]
  },
  {
   "cell_type": "markdown",
   "metadata": {},
   "source": [
    "It is correct to replace NaN in people_fully_vaccinated column with 0."
   ]
  },
  {
   "cell_type": "code",
   "execution_count": 8,
   "metadata": {},
   "outputs": [],
   "source": [
    "df['people_fully_vaccinated'] = df['people_fully_vaccinated'].fillna(0)"
   ]
  },
  {
   "cell_type": "markdown",
   "metadata": {},
   "source": [
    "Check if we have more nulls"
   ]
  },
  {
   "cell_type": "code",
   "execution_count": 9,
   "metadata": {},
   "outputs": [
    {
     "data": {
      "text/html": [
       "<div>\n",
       "<style scoped>\n",
       "    .dataframe tbody tr th:only-of-type {\n",
       "        vertical-align: middle;\n",
       "    }\n",
       "\n",
       "    .dataframe tbody tr th {\n",
       "        vertical-align: top;\n",
       "    }\n",
       "\n",
       "    .dataframe thead th {\n",
       "        text-align: right;\n",
       "    }\n",
       "</style>\n",
       "<table border=\"1\" class=\"dataframe\">\n",
       "  <thead>\n",
       "    <tr style=\"text-align: right;\">\n",
       "      <th></th>\n",
       "      <th>date</th>\n",
       "      <th>total_cases</th>\n",
       "      <th>total_deaths</th>\n",
       "      <th>people_fully_vaccinated</th>\n",
       "      <th>population</th>\n",
       "    </tr>\n",
       "  </thead>\n",
       "  <tbody>\n",
       "  </tbody>\n",
       "</table>\n",
       "</div>"
      ],
      "text/plain": [
       "Empty DataFrame\n",
       "Columns: [date, total_cases, total_deaths, people_fully_vaccinated, population]\n",
       "Index: []"
      ]
     },
     "execution_count": 9,
     "metadata": {},
     "output_type": "execute_result"
    }
   ],
   "source": [
    "df[df.isnull().any(axis=1)]"
   ]
  },
  {
   "cell_type": "markdown",
   "metadata": {},
   "source": [
    "##### Add more columns"
   ]
  },
  {
   "cell_type": "markdown",
   "metadata": {},
   "source": [
    "Add days_count columns which is integer representation of timescale required futher for regression calculaiton"
   ]
  },
  {
   "cell_type": "code",
   "execution_count": 10,
   "metadata": {},
   "outputs": [],
   "source": [
    "df['days_count'] = (df['date'] - df['date'][0]) / np.timedelta64(1, 'D')"
   ]
  },
  {
   "cell_type": "markdown",
   "metadata": {},
   "source": [
    "Add total_infected column which shows population who aquire immunity through recovary from the infection"
   ]
  },
  {
   "cell_type": "code",
   "execution_count": 11,
   "metadata": {},
   "outputs": [],
   "source": [
    "df['total_infected'] = df['total_cases'] - df['total_deaths']"
   ]
  },
  {
   "cell_type": "markdown",
   "metadata": {},
   "source": [
    "Add total_immunized column which is total population acquired immunity either though vaccination or infection"
   ]
  },
  {
   "cell_type": "code",
   "execution_count": 12,
   "metadata": {},
   "outputs": [],
   "source": [
    "df['total_immunized'] = df['total_infected'] + df['people_fully_vaccinated']"
   ]
  },
  {
   "cell_type": "markdown",
   "metadata": {},
   "source": [
    "##### Calculate target value"
   ]
  },
  {
   "cell_type": "markdown",
   "metadata": {},
   "source": [
    "Assumed target value to reach the herd immunity is 70% which in absolute amount is"
   ]
  },
  {
   "cell_type": "code",
   "execution_count": 13,
   "metadata": {},
   "outputs": [
    {
     "data": {
      "text/plain": [
       "30613631"
      ]
     },
     "execution_count": 13,
     "metadata": {},
     "output_type": "execute_result"
    }
   ],
   "source": [
    "target_value = floor(df['population'][0] * 0.7)\n",
    "target_value"
   ]
  },
  {
   "cell_type": "markdown",
   "metadata": {},
   "source": [
    "#### Statistical summary"
   ]
  },
  {
   "cell_type": "code",
   "execution_count": 14,
   "metadata": {},
   "outputs": [
    {
     "data": {
      "text/html": [
       "<div>\n",
       "<style scoped>\n",
       "    .dataframe tbody tr th:only-of-type {\n",
       "        vertical-align: middle;\n",
       "    }\n",
       "\n",
       "    .dataframe tbody tr th {\n",
       "        vertical-align: top;\n",
       "    }\n",
       "\n",
       "    .dataframe thead th {\n",
       "        text-align: right;\n",
       "    }\n",
       "</style>\n",
       "<table border=\"1\" class=\"dataframe\">\n",
       "  <thead>\n",
       "    <tr style=\"text-align: right;\">\n",
       "      <th></th>\n",
       "      <th>total_cases</th>\n",
       "      <th>total_deaths</th>\n",
       "      <th>people_fully_vaccinated</th>\n",
       "      <th>population</th>\n",
       "      <th>days_count</th>\n",
       "      <th>total_infected</th>\n",
       "      <th>total_immunized</th>\n",
       "    </tr>\n",
       "  </thead>\n",
       "  <tbody>\n",
       "    <tr>\n",
       "      <th>count</th>\n",
       "      <td>1.610000e+02</td>\n",
       "      <td>161.000000</td>\n",
       "      <td>161.000000</td>\n",
       "      <td>161.0</td>\n",
       "      <td>161.000000</td>\n",
       "      <td>1.610000e+02</td>\n",
       "      <td>1.610000e+02</td>\n",
       "    </tr>\n",
       "    <tr>\n",
       "      <th>mean</th>\n",
       "      <td>1.692101e+06</td>\n",
       "      <td>35153.757764</td>\n",
       "      <td>19611.229814</td>\n",
       "      <td>43733759.0</td>\n",
       "      <td>80.000000</td>\n",
       "      <td>1.656947e+06</td>\n",
       "      <td>1.676558e+06</td>\n",
       "    </tr>\n",
       "    <tr>\n",
       "      <th>std</th>\n",
       "      <td>4.100382e+05</td>\n",
       "      <td>11261.944584</td>\n",
       "      <td>47909.067790</td>\n",
       "      <td>0.0</td>\n",
       "      <td>46.620811</td>\n",
       "      <td>3.988427e+05</td>\n",
       "      <td>4.279297e+05</td>\n",
       "    </tr>\n",
       "    <tr>\n",
       "      <th>min</th>\n",
       "      <td>1.102256e+06</td>\n",
       "      <td>19498.000000</td>\n",
       "      <td>0.000000</td>\n",
       "      <td>43733759.0</td>\n",
       "      <td>0.000000</td>\n",
       "      <td>1.082758e+06</td>\n",
       "      <td>1.082758e+06</td>\n",
       "    </tr>\n",
       "    <tr>\n",
       "      <th>25%</th>\n",
       "      <td>1.302811e+06</td>\n",
       "      <td>25330.000000</td>\n",
       "      <td>0.000000</td>\n",
       "      <td>43733759.0</td>\n",
       "      <td>40.000000</td>\n",
       "      <td>1.277481e+06</td>\n",
       "      <td>1.277481e+06</td>\n",
       "    </tr>\n",
       "    <tr>\n",
       "      <th>50%</th>\n",
       "      <td>1.615747e+06</td>\n",
       "      <td>32018.000000</td>\n",
       "      <td>0.000000</td>\n",
       "      <td>43733759.0</td>\n",
       "      <td>80.000000</td>\n",
       "      <td>1.583729e+06</td>\n",
       "      <td>1.583730e+06</td>\n",
       "    </tr>\n",
       "    <tr>\n",
       "      <th>75%</th>\n",
       "      <td>2.137959e+06</td>\n",
       "      <td>46447.000000</td>\n",
       "      <td>290.000000</td>\n",
       "      <td>43733759.0</td>\n",
       "      <td>120.000000</td>\n",
       "      <td>2.091512e+06</td>\n",
       "      <td>2.091802e+06</td>\n",
       "    </tr>\n",
       "    <tr>\n",
       "      <th>max</th>\n",
       "      <td>2.281303e+06</td>\n",
       "      <td>53683.000000</td>\n",
       "      <td>230420.000000</td>\n",
       "      <td>43733759.0</td>\n",
       "      <td>160.000000</td>\n",
       "      <td>2.227620e+06</td>\n",
       "      <td>2.458040e+06</td>\n",
       "    </tr>\n",
       "  </tbody>\n",
       "</table>\n",
       "</div>"
      ],
      "text/plain": [
       "        total_cases  total_deaths  people_fully_vaccinated  population  \\\n",
       "count  1.610000e+02    161.000000               161.000000       161.0   \n",
       "mean   1.692101e+06  35153.757764             19611.229814  43733759.0   \n",
       "std    4.100382e+05  11261.944584             47909.067790         0.0   \n",
       "min    1.102256e+06  19498.000000                 0.000000  43733759.0   \n",
       "25%    1.302811e+06  25330.000000                 0.000000  43733759.0   \n",
       "50%    1.615747e+06  32018.000000                 0.000000  43733759.0   \n",
       "75%    2.137959e+06  46447.000000               290.000000  43733759.0   \n",
       "max    2.281303e+06  53683.000000            230420.000000  43733759.0   \n",
       "\n",
       "       days_count  total_infected  total_immunized  \n",
       "count  161.000000    1.610000e+02     1.610000e+02  \n",
       "mean    80.000000    1.656947e+06     1.676558e+06  \n",
       "std     46.620811    3.988427e+05     4.279297e+05  \n",
       "min      0.000000    1.082758e+06     1.082758e+06  \n",
       "25%     40.000000    1.277481e+06     1.277481e+06  \n",
       "50%     80.000000    1.583729e+06     1.583730e+06  \n",
       "75%    120.000000    2.091512e+06     2.091802e+06  \n",
       "max    160.000000    2.227620e+06     2.458040e+06  "
      ]
     },
     "execution_count": 14,
     "metadata": {},
     "output_type": "execute_result"
    }
   ],
   "source": [
    "df.describe()"
   ]
  },
  {
   "cell_type": "markdown",
   "metadata": {},
   "source": [
    "Even though we can retrieve these summarized data, it does not provide much value to us. Objective of this research involves working with cumulative data over time. If we were to work with daily data then such measures could be of more interest."
   ]
  },
  {
   "cell_type": "markdown",
   "metadata": {},
   "source": [
    "As far as we are dealing with cumulative data, it is likely that distribution is going to be some type of  F cumulative distribution[5]. Example for total cases over time is on the plot below."
   ]
  },
  {
   "cell_type": "code",
   "execution_count": 15,
   "metadata": {},
   "outputs": [
    {
     "data": {
      "image/png": "[encoded data removed]",
      "text/plain": [
       "<Figure size 432x288 with 1 Axes>"
      ]
     },
     "metadata": {
      "needs_background": "light"
     },
     "output_type": "display_data"
    }
   ],
   "source": [
    "plt.plot(df['days_count'],df['total_cases'])\n",
    "plt.show()"
   ]
  },
  {
   "cell_type": "markdown",
   "metadata": {},
   "source": [
    "Distribution for people_fully_vaccinated starts as uniform and starts to develop and upward trend at about day 130."
   ]
  },
  {
   "cell_type": "code",
   "execution_count": 16,
   "metadata": {},
   "outputs": [
    {
     "data": {
      "image/png": "[encoded data removed]",
      "text/plain": [
       "<Figure size 432x288 with 1 Axes>"
      ]
     },
     "metadata": {
      "needs_background": "light"
     },
     "output_type": "display_data"
    }
   ],
   "source": [
    "plt.plot(df['days_count'],df['people_fully_vaccinated'])\n",
    "plt.show()"
   ]
  },
  {
   "cell_type": "code",
   "execution_count": 17,
   "metadata": {},
   "outputs": [],
   "source": [
    "people_fully_vaccinated_day_start = 130"
   ]
  },
  {
   "cell_type": "markdown",
   "metadata": {},
   "source": [
    "#### Visualization"
   ]
  },
  {
   "cell_type": "code",
   "execution_count": 18,
   "metadata": {},
   "outputs": [
    {
     "data": {
      "image/png": "[encoded data removed]",
      "text/plain": [
       "<Figure size 720x576 with 1 Axes>"
      ]
     },
     "metadata": {
      "needs_background": "light"
     },
     "output_type": "display_data"
    }
   ],
   "source": [
    "fig, ax = plt.subplots(1, 1, figsize=(10, 8))\n",
    "\n",
    "one_month = mdates.MonthLocator(interval=1)\n",
    "ax.xaxis.set_major_locator(one_month)\n",
    "ax.xaxis.set_major_formatter(mdates.DateFormatter('%Y-%m'))\n",
    "\n",
    "ax.plot(df['date'],df['total_infected'], label='Total infected')\n",
    "ax.plot(df['date'],df['people_fully_vaccinated'], label='Total vaccinated')\n",
    "ax.plot(df['date'],df['total_immunized'], label='Total immunized')\n",
    "ax.grid(True)\n",
    "ax.legend()\n",
    "plt.show()"
   ]
  },
  {
   "cell_type": "markdown",
   "metadata": {},
   "source": [
    "##### Create a model"
   ]
  },
  {
   "cell_type": "code",
   "execution_count": 19,
   "metadata": {},
   "outputs": [],
   "source": [
    "model = LinearRegression(fit_intercept=True)"
   ]
  },
  {
   "cell_type": "markdown",
   "metadata": {},
   "source": [
    "Visualizing progression of vaccination and total cases"
   ]
  },
  {
   "cell_type": "code",
   "execution_count": 20,
   "metadata": {
    "scrolled": false
   },
   "outputs": [],
   "source": [
    "def plot_regression_results(days,show_total_immunized=False, show_target_ticks=False):\n",
    "    #### Calculating total infected progression\n",
    "    x = df['days_count'].values\n",
    "    y = df['total_infected'].values\n",
    "\n",
    "    X = x[:, np.newaxis]\n",
    "    model.fit(X,y)\n",
    "\n",
    "    xfit = np.linspace(-1,days)\n",
    "    Xfit = xfit[:, np.newaxis]\n",
    "    yfit = model.predict(Xfit)\n",
    "\n",
    "    #### Calculating total vaccinated progression\n",
    "    x1 = df.loc[(df['days_count'] > people_fully_vaccinated_day_start)]['days_count'].values\n",
    "    y1 = df.loc[(df['days_count'] > people_fully_vaccinated_day_start)]['people_fully_vaccinated'].values\n",
    "\n",
    "    X1 = x1[:, np.newaxis]\n",
    "    model.fit(X1,y1)\n",
    "\n",
    "    x1fit = np.linspace(-1,days)\n",
    "    X1fit = x1fit[:, np.newaxis]\n",
    "    y1fit = model.predict(X1fit)\n",
    "\n",
    "    ##Convert days count into date time\n",
    "    base = df['date'][0]\n",
    "    dates_total = np.array([base + datetime.timedelta(days=i) for i in xfit])\n",
    "    dates_x = np.array([base + datetime.timedelta(days=i) for i in x])\n",
    "    dates_x1 = np.array([base + datetime.timedelta(days=i) for i in x1])\n",
    "    dates_y1 = dates_total\n",
    "    \n",
    "    #plot value\n",
    "    fig, ax = plt.subplots(1,1,figsize=(12,10))\n",
    "    ax.plot(dates_x, y, label='Total infected actual')\n",
    "    ax.plot(dates_x1, y1, label='Total vaccinated actual')\n",
    "    ax.plot(dates_total,yfit, label='Total infected projected')\n",
    "    ax.plot(dates_total,y1fit, label='Total vaccinated projected')\n",
    "    if(show_total_immunized):\n",
    "        ax.plot(dates_total,yfit + y1fit, label='Total immunized projected') \n",
    "    if(show_target_ticks):\n",
    "        ax.axhline(target_value, linestyle='--', color='r')\n",
    "        ax.set_yticks([x for x in range(0,int(df['population'][0])) if x % 1000000 == 0], minor=True)\n",
    "        ax.yaxis.grid(True, which='major')\n",
    "        ax.yaxis.grid(True, which='minor',linestyle='--')\n",
    "    ax.legend()\n",
    "    ax.grid(True)\n",
    "    plt.show()"
   ]
  },
  {
   "cell_type": "markdown",
   "metadata": {},
   "source": [
    "From the plot below we can see that projection of total infected population corresponds to real data quite well: there are some local deviations (prediction may be higher than actual data or lower) but these deviations are mutually conpensatable and over time predicted values stay quite close to the actual data.\n",
    "\n",
    "Total vaccinated projection, on the cotrary, corresponds the actual data quite bad. There is much less data to build a quality projection. From what we can see on the screen, the projection may be quite pessimistic."
   ]
  },
  {
   "cell_type": "code",
   "execution_count": 21,
   "metadata": {
    "scrolled": false
   },
   "outputs": [
    {
     "data": {
      "image/png": "[encoded data removed]",
      "text/plain": [
       "<Figure size 864x720 with 1 Axes>"
      ]
     },
     "metadata": {
      "needs_background": "light"
     },
     "output_type": "display_data"
    }
   ],
   "source": [
    "plot_regression_results(df['days_count'].count(), show_total_immunized=False, show_target_ticks=False)"
   ]
  },
  {
   "cell_type": "markdown",
   "metadata": {},
   "source": [
    "How much days since 2021-01-01 to wait to reach 70% population immunized without vaccine"
   ]
  },
  {
   "cell_type": "code",
   "execution_count": 22,
   "metadata": {},
   "outputs": [
    {
     "name": "stdout",
     "output_type": "stream",
     "text": [
      "3412\n",
      "2030-05-07 00:00:00\n"
     ]
    }
   ],
   "source": [
    "x = df['total_infected'].values\n",
    "y = df['days_count'].values\n",
    "\n",
    "X = x[:, np.newaxis]\n",
    "model.fit(X,y)\n",
    "\n",
    "target_days = floor(model.predict(np.array(target_value).reshape(-1,1)))\n",
    "#days since 2021-01-01 to reach herd immunity\n",
    "print(target_days)\n",
    "print(df['date'][0] + datetime.timedelta(days=target_days))"
   ]
  },
  {
   "cell_type": "code",
   "execution_count": 23,
   "metadata": {},
   "outputs": [
    {
     "data": {
      "image/png": "[encoded data removed]",
      "text/plain": [
       "<Figure size 864x720 with 1 Axes>"
      ]
     },
     "metadata": {
      "needs_background": "light"
     },
     "output_type": "display_data"
    }
   ],
   "source": [
    "plot_regression_results(target_days, show_total_immunized=True, show_target_ticks=True)"
   ]
  },
  {
   "cell_type": "markdown",
   "metadata": {},
   "source": [
    "The project date of acheiving herd immunity without vaccination is May 2030, the projected date of acheiving herd immunity with vaccination at the current rate is around May 2026 as visible from the plot above. We can also see that the number of vaccinated in May 2026 is projected to be about 12 m while number of total infected is 18 m."
   ]
  },
  {
   "cell_type": "markdown",
   "metadata": {},
   "source": [
    "# Conclusions"
   ]
  },
  {
   "cell_type": "markdown",
   "metadata": {},
   "source": [
    "## Results of the ML model"
   ]
  },
  {
   "cell_type": "markdown",
   "metadata": {},
   "source": [
    "Information about metrics and scoring for regression models is available at Scikit-learn  website.[6]"
   ]
  },
  {
   "cell_type": "code",
   "execution_count": 24,
   "metadata": {
    "scrolled": true
   },
   "outputs": [
    {
     "name": "stdout",
     "output_type": "stream",
     "text": [
      "Explained variance: 0.98\n",
      "Root mean squared error: 63284\n",
      "Max error: 112434\n",
      "Coefficient of determination: 0.97\n",
      "Mean absoulte percentage error: 3.66%\n"
     ]
    }
   ],
   "source": [
    "from sklearn import metrics\n",
    "\n",
    "x = df['days_count'].values\n",
    "y = df['total_infected'].values\n",
    "\n",
    "X = x[:, np.newaxis]\n",
    "X_train, X_test, y_train, y_test = train_test_split(X, y, test_size=0.2, random_state=12345)\n",
    "\n",
    "model.fit(X_train, y_train)\n",
    "y_pred = model.predict(X_test)\n",
    "\n",
    "print(\"Explained variance: {x:.2f}\".format(x=metrics.explained_variance_score(y_test, y_pred)))\n",
    "print(\"Root mean squared error: {x:.0f}\".format(x=metrics.mean_squared_error(y_test, y_pred, squared=False)))\n",
    "print(\"Max error: {x:.0f}\".format(x=metrics.max_error(y_test, y_pred)))\n",
    "print(\"Coefficient of determination: {x:.2f}\".format(x=metrics.r2_score(y_test, y_pred)))\n",
    "print(\"Mean absoulte percentage error: {x:.2%}\".format(x=metrics.mean_absolute_percentage_error(y_test, y_pred)))"
   ]
  },
  {
   "cell_type": "markdown",
   "metadata": {},
   "source": [
    "We can observe prediction results of quite high quality e.g. the maximum value for the coefficient of determination is 1.00 and we are getting 0.97; mean absolute percentage error is 3.66% which is quite low. This confirms what we have seen on the line above for total_infected projection though such results are too good and warrant a double-check of logic and calculations."
   ]
  },
  {
   "cell_type": "code",
   "execution_count": 25,
   "metadata": {
    "scrolled": true
   },
   "outputs": [
    {
     "name": "stdout",
     "output_type": "stream",
     "text": [
      "Explained variance: 0.97\n",
      "Root mean squared error: 10061\n",
      "Max error: 19187\n",
      "Coefficient of determination: 0.96\n",
      "Mean absoulte percentage error: 15.41%\n"
     ]
    }
   ],
   "source": [
    "from sklearn import metrics\n",
    "\n",
    "x = df['days_count'][people_fully_vaccinated_day_start:].values\n",
    "y = df['people_fully_vaccinated'][people_fully_vaccinated_day_start:].values\n",
    "\n",
    "X = x[:, np.newaxis]\n",
    "X_train, X_test, y_train, y_test = train_test_split(X, y, test_size=0.2, random_state=12345)\n",
    "\n",
    "model.fit(X_train, y_train)\n",
    "y_pred = model.predict(X_test)\n",
    "\n",
    "print(\"Explained variance: {x:.2f}\".format(x=metrics.explained_variance_score(y_test, y_pred)))\n",
    "print(\"Root mean squared error: {x:.0f}\".format(x=metrics.mean_squared_error(y_test, y_pred, squared=False)))\n",
    "print(\"Max error: {x:.0f}\".format(x=metrics.max_error(y_test, y_pred)))\n",
    "print(\"Coefficient of determination: {x:.2f}\".format(x=metrics.r2_score(y_test, y_pred)))\n",
    "print(\"Mean absoulte percentage error: {x:.2%}\".format(x=metrics.mean_absolute_percentage_error(y_test, y_pred)))"
   ]
  },
  {
   "cell_type": "markdown",
   "metadata": {},
   "source": [
    "Results for people_fully_vaccinated series display much higher mean absoulte percentage error. One could argue that 15.41% might be too high for projection to be reliable. However this result is expected because we have seen that projection didnot fit the actual data as good as in case of total_infected series."
   ]
  },
  {
   "cell_type": "markdown",
   "metadata": {},
   "source": [
    "Total immunized projection which we used to project herd immunity was a sum of total_infected and people_fully_vaccinated. We can calculate mean absolute percentage error for this series and assume it to be the mean absolute percentage error of our model"
   ]
  },
  {
   "cell_type": "code",
   "execution_count": 26,
   "metadata": {},
   "outputs": [
    {
     "data": {
      "text/plain": [
       "9.535"
      ]
     },
     "execution_count": 26,
     "metadata": {},
     "output_type": "execute_result"
    }
   ],
   "source": [
    "(3.66 + 15.41) / 2"
   ]
  },
  {
   "cell_type": "markdown",
   "metadata": {},
   "source": [
    "## Evaluation of the project and its results"
   ]
  },
  {
   "cell_type": "markdown",
   "metadata": {},
   "source": [
    "Population of Ukraine is getting immunity to Covid-19 mostly due to natural process of contracting infection and recoving from it. At present pace of vaccination we are projected to reach 70% herd immunity mark not sooner than May 2026. 70% percent of population evaluates roughly to 30m people in absolute terms; we predict that rougly 12m of them can get immunity though vaccination with the reminder 18m getting immunity though contracting the desease. The mean absolute percentage error  of the projection is 9.53%. Given this error and starting point of our calculations January 2021, we could make a reservation that our projected date is May 2026 plus/minus 6,1 months (i.e. May 2026 - January 2021 = 65 monhts; 65 * 9.5% = 6,1)."
   ]
  },
  {
   "cell_type": "markdown",
   "metadata": {},
   "source": [
    "# Citations"
   ]
  },
  {
   "cell_type": "markdown",
   "metadata": {},
   "source": [
    "1. Lana Ustymova. Vaccination failure in Ukraine: who's responsible and when Ukrainians get access to vaccine. Retrived from:\n",
    "https://rubryka.com/en/article/proval-vaccination-ukraine/\n",
    "2. https://www.reuters.com/world/europe/ukraines-parliament-dismisses-health-minister-over-covid-response-2021-05-18/\n",
    "3. Mathieu, E., Ritchie, H., Ortiz-Ospina, E. et al. A global database of COVID-19 vaccinations. Nat Hum Behav (2021). Retrieved from: https://ourworldindata.org/covid-vaccinations [Online Resource] on June 12, 2021.\n",
    "4. Donald G. McNeil Jr. How Much Herd Immunity Is Enough?  Retrieved from: https://www.nytimes.com/2020/12/24/health/herd-immunity-covid-coronavirus.html [Online Resource] on June 12, 2021.\n",
    "5. NIST. F distribution. Retrived from: https://www.itl.nist.gov/div898/handbook/eda/section3/eda3665.htm [Online Resource] on June 12, 2021 \n",
    "6. Scikit-learn. Metrics and scoring: quantifying the quality of predictions. Retrived from: https://scikit-learn.org/stable/modules/model_evaluation.html#regression-metrics [Online Resource] on June 12, 2021"
   ]
  }
 ],
 "metadata": {
  "kernelspec": {
   "display_name": "Python 3",
   "language": "python",
   "name": "python3"
  },
  "language_info": {
   "codemirror_mode": {
    "name": "ipython",
    "version": 3
   },
   "file_extension": ".py",
   "mimetype": "text/x-python",
   "name": "python",
   "nbconvert_exporter": "python",
   "pygments_lexer": "ipython3",
   "version": "3.8.3"
  }
 },
 "nbformat": 4,
 "nbformat_minor": 4
}
